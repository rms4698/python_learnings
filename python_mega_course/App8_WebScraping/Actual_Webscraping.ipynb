{
 "cells": [
  {
   "cell_type": "code",
   "execution_count": 61,
   "metadata": {},
   "outputs": [
    {
     "name": "stdout",
     "output_type": "stream",
     "text": [
      "                                             Address      Type     Price  \\\n",
      "0             2005 Arthur Ave, Rock Springs WY 82901  FOR SALE  $310,000   \n",
      "1        1017 Arapahoe Street, Rock Springs WY 82901  FOR SALE  $150,000   \n",
      "2  6108 Wild Buffalo Foothill Blvd., Rock Springs...  FOR SALE  $182,000   \n",
      "3      2401 Little Moon Trail, Rock Springs WY 82901  FOR SALE  $174,900   \n",
      "4               1307 W 2nd St, Rock Springs WY 82901  FOR SALE  $139,000   \n",
      "\n",
      "     Beds    Baths   Half Baths         Sq_ft  \\\n",
      "0  3 beds  3 baths           NA  1,924 sq. ft   \n",
      "1  2 beds   1 bath           NA            NA   \n",
      "2  3 beds  3 baths  1 half bath  1,693 sq. ft   \n",
      "3  3 beds  2 baths  1 half bath  1,482 sq. ft   \n",
      "4  3 beds   1 bath           NA  1,342 sq. ft   \n",
      "\n",
      "                                     Attribution  \n",
      "0  Courtesy Of Coldwell Banker Sweetwater Realty  \n",
      "1  Courtesy Of Coldwell Banker Sweetwater Realty  \n",
      "2                  Courtesy Of All Broker Realty  \n",
      "3                Courtesy Of Cowboy State Realty  \n",
      "4  Courtesy Of Coldwell Banker Sweetwater Realty  \n"
     ]
    }
   ],
   "source": [
    "import requests\n",
    "from bs4 import BeautifulSoup\n",
    "import pandas\n",
    "\n",
    "r = requests.get(\"https://www.century21.com/real-estate/rock-springs-wy/LCWYROCKSPRINGS/\", headers={'User-agent': 'Mozilla/5.0 (X11; Ubuntu; Linux x86_64; rv:61.0) Gecko/20100101 Firefox/61.0'})\n",
    "soup = BeautifulSoup(r.content, \"html.parser\")\n",
    "\n",
    "house_details = soup.find_all(\"div\", attrs= {\"class\": \"property-card-primary-info\"})\n",
    "properties = [\"Address\", \"Type\", \"Price\", \"Beds\", \"Baths\", \"Half Baths\", \"Sq_ft\", \"Attribution\"]\n",
    "df = pandas.DataFrame(columns= properties)\n",
    "for prop in properties:\n",
    "    df[prop] = [\"NA\"] * len(house_details)\n",
    "\n",
    "Attribution = []\n",
    "for i in range(len(house_details)):\n",
    "    house = house_details[i]\n",
    "    address = house.find(\"div\", {\"class\": \"property-address\"}).text.strip() + \", \" + \\\n",
    "    house.find(\"div\", {\"class\": \"property-city\"}).text.strip()\n",
    "    df[\"Address\"][i] = address\n",
    "    df[\"Type\"][i] = house.find(\"div\", {\"class\": \"pdp-listing-type sale\"}).text.strip()\n",
    "    try:\n",
    "        df[\"Price\"][i] = house.find(\"a\", {\"class\": \"listing-price\"}).text.strip()\n",
    "    except:\n",
    "        pass\n",
    "    df[\"Beds\"][i] = house.find(\"div\", {\"class\": \"property-beds\"}).text.strip()\n",
    "    df[\"Baths\"][i] = house.find(\"div\", {\"class\": \"property-baths\"}).text.strip()\n",
    "    try:\n",
    "        df[\"Half Baths\"][i] = house.find(\"div\", {\"class\": \"property-half-baths\"}).text.strip()\n",
    "    except:\n",
    "        pass\n",
    "    try:\n",
    "        df[\"Sq_ft\"][i] = house.find(\"div\", {\"class\": \"property-sqft\"}).text.strip()\n",
    "    except:\n",
    "        pass\n",
    "    df[\"Attribution\"][i] = house.find(\"div\", {\"class\": \"property-card-attribution\"}).text.strip()\n",
    "\n",
    "print(df.head())\n",
    "df.to_csv(\"RealEstatedetails.csv\")\n"
   ]
  },
  {
   "cell_type": "code",
   "execution_count": null,
   "metadata": {},
   "outputs": [],
   "source": []
  }
 ],
 "metadata": {
  "kernelspec": {
   "display_name": "Python 3",
   "language": "python",
   "name": "python3"
  },
  "language_info": {
   "codemirror_mode": {
    "name": "ipython",
    "version": 3
   },
   "file_extension": ".py",
   "mimetype": "text/x-python",
   "name": "python",
   "nbconvert_exporter": "python",
   "pygments_lexer": "ipython3",
   "version": "3.8.3"
  }
 },
 "nbformat": 4,
 "nbformat_minor": 4
}
