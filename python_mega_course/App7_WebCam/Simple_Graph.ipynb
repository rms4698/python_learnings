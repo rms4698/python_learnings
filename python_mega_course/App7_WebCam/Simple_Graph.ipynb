{
 "cells": [
  {
   "cell_type": "code",
   "execution_count": 1,
   "metadata": {},
   "outputs": [],
   "source": [
    "from bokeh.plotting import figure\n",
    "from bokeh.io import output_file, show\n",
    "import pandas\n",
    "\n",
    "x = [1,2,3,4]\n",
    "y = [1,2,3,4]\n",
    "\n",
    "output_file(\"Line.html\")\n",
    "\n",
    "f = figure()\n",
    "f.circle(x, y)\n",
    "show(f)"
   ]
  },
  {
   "cell_type": "code",
   "execution_count": 6,
   "metadata": {},
   "outputs": [
    {
     "name": "stdout",
     "output_type": "stream",
     "text": [
      "   Year  Agriculture  Architecture  Art and Performance    Biology   Business  \\\n",
      "0  1970     4.229798     11.921005                 59.7  29.088363   9.064439   \n",
      "1  1971     5.452797     12.003106                 59.9  29.394403   9.503187   \n",
      "2  1972     7.420710     13.214594                 60.4  29.810221  10.558962   \n",
      "3  1973     9.653602     14.791613                 60.2  31.147915  12.804602   \n",
      "4  1974    14.074623     17.444688                 61.9  32.996183  16.204850   \n",
      "\n",
      "   Communications and Journalism  Computer Science  Education  Engineering  \\\n",
      "0                           35.3              13.6  74.535328          0.8   \n",
      "1                           35.5              13.6  74.149204          1.0   \n",
      "2                           36.6              14.9  73.554520          1.2   \n",
      "3                           38.4              16.4  73.501814          1.6   \n",
      "4                           40.5              18.9  73.336811          2.2   \n",
      "\n",
      "     English  Foreign Languages  Health Professions  Math and Statistics  \\\n",
      "0  65.570923               73.8                77.1                 38.0   \n",
      "1  64.556485               73.9                75.5                 39.0   \n",
      "2  63.664263               74.6                76.9                 40.2   \n",
      "3  62.941502               74.9                77.4                 40.9   \n",
      "4  62.413412               75.3                77.9                 41.8   \n",
      "\n",
      "   Physical Sciences  Psychology  Public Administration  \\\n",
      "0               13.8        44.4                   68.4   \n",
      "1               14.9        46.2                   65.5   \n",
      "2               14.8        47.6                   62.6   \n",
      "3               16.5        50.4                   64.3   \n",
      "4               18.2        52.6                   66.1   \n",
      "\n",
      "   Social Sciences and History  \n",
      "0                         36.8  \n",
      "1                         36.2  \n",
      "2                         36.1  \n",
      "3                         36.4  \n",
      "4                         37.3  \n"
     ]
    }
   ],
   "source": [
    "df = pandas.read_csv(\"bachelors.csv\")\n",
    "print(df.head())\n",
    "\n",
    "x=df[\"Year\"]\n",
    "y=df[\"Engineering\"]\n",
    "output_file(\"Line.html\")\n",
    "\n",
    "f = figure()\n",
    "f.line(x, y)\n",
    "show(f)"
   ]
  },
  {
   "cell_type": "code",
   "execution_count": 9,
   "metadata": {},
   "outputs": [],
   "source": [
    "import pandas\n",
    "from bokeh.plotting import figure, output_file, show\n",
    " \n",
    "p=figure(plot_width=500,plot_height=400, tools='pan')\n",
    " \n",
    "p.title.text=\"Cool Data\"\n",
    "p.title.text_color=\"Gray\"\n",
    "p.title.text_font=\"times\"\n",
    "p.title.text_font_style=\"bold\"\n",
    "p.xaxis.minor_tick_line_color=None\n",
    "p.yaxis.minor_tick_line_color=None\n",
    "p.xaxis.axis_label=\"Date\"\n",
    "p.yaxis.axis_label=\"Intensity\"    \n",
    " \n",
    "p.line([1,2,3],[4,5,6])\n",
    "output_file(\"graph.html\")\n",
    "show(p)"
   ]
  },
  {
   "cell_type": "code",
   "execution_count": 16,
   "metadata": {},
   "outputs": [],
   "source": [
    "import pandas\n",
    " \n",
    "from bokeh.plotting import figure, output_file, show\n",
    " \n",
    "df=pandas.read_excel(\"http://pythonhow.com/data/verlegenhuken.xlsx\",sheet_name=0, engine='openpyxl')\n",
    "df[\"Temperature\"]=df[\"Temperature\"]/10\n",
    "df[\"Pressure\"]=df[\"Pressure\"]/10\n",
    " \n",
    "p=figure(plot_width=500,plot_height=400,tools='pan')\n",
    " \n",
    "p.title.text=\"Temperature and Air Pressure\"\n",
    "p.title.text_color=\"Gray\"\n",
    "p.title.text_font=\"arial\"\n",
    "p.title.text_font_style=\"bold\"\n",
    "p.xaxis.minor_tick_line_color=None\n",
    "p.yaxis.minor_tick_line_color=None\n",
    "p.xaxis.axis_label=\"Temperature (°C)\"\n",
    "p.yaxis.axis_label=\"Pressure (hPa)\"    \n",
    " \n",
    "p.circle(df[\"Temperature\"],df[\"Pressure\"],size=0.5)\n",
    "output_file(\"Weather.html\")\n",
    "show(p)"
   ]
  },
  {
   "cell_type": "code",
   "execution_count": 20,
   "metadata": {},
   "outputs": [],
   "source": [
    "from bokeh.plotting import figure\n",
    "from bokeh.io import output_file, show\n",
    "import pandas\n",
    "\n",
    "df = pandas.read_csv(\"adbe.csv\", parse_dates=[\"Date\"])\n",
    "\n",
    "p = figure(width=500,height=250, x_axis_type=\"datetime\", sizing_mode=\"scale_both\")\n",
    "p.line(df[\"Date\"], df[\"Close\"], color=\"Orange\", alpha=0.5)\n",
    "output_file(\"Timeseries.html\")\n",
    "show(p)"
   ]
  },
  {
   "cell_type": "code",
   "execution_count": 37,
   "metadata": {},
   "outputs": [],
   "source": [
    "from bokeh.plotting import figure\n",
    "from bokeh.io import output_file, show\n",
    "import datetime\n",
    "\n",
    "x = [datetime.datetime(2021, 5, 28, 15, 56, 13, 489814), datetime.datetime(2021, 5, 28, 15, 56, 15, 811974), datetime.datetime(2021, 5, 28, 15, 56, 19, 685713), datetime.datetime(2021, 5, 28, 15, 56, 24, 771982), datetime.datetime(2021, 5, 28, 15, 56, 26, 675006), datetime.datetime(2021, 5, 28, 15, 56, 27, 779073), datetime.datetime(2021, 5, 28, 15, 56, 29, 36431), datetime.datetime(2021, 5, 28, 15, 56, 34, 676663), datetime.datetime(2021, 5, 28, 15, 56, 36, 852619), datetime.datetime(2021, 5, 28, 15, 56, 38, 325761), datetime.datetime(2021, 5, 28, 15, 56, 39, 861108), datetime.datetime(2021, 5, 28, 15, 56, 41, 106710), datetime.datetime(2021, 5, 28, 15, 56, 42, 223162)] \n",
    "y = [1, 0, 1, 0, 1, 0, 1, 0, 1, 0, 1, 0, 0]\n",
    "p = figure(width=500,height=250, x_axis_type=\"datetime\")\n",
    "p.step(x, y, color=\"Orange\", alpha=0.5)\n",
    "output_file(\"motiondetecter.html\")\n",
    "show(p)"
   ]
  },
  {
   "cell_type": "code",
   "execution_count": 25,
   "metadata": {},
   "outputs": [
    {
     "data": {
      "text/plain": [
       "['__annotations__',\n",
       " '__call__',\n",
       " '__class__',\n",
       " '__closure__',\n",
       " '__code__',\n",
       " '__defaults__',\n",
       " '__delattr__',\n",
       " '__dict__',\n",
       " '__dir__',\n",
       " '__doc__',\n",
       " '__eq__',\n",
       " '__format__',\n",
       " '__ge__',\n",
       " '__get__',\n",
       " '__getattribute__',\n",
       " '__globals__',\n",
       " '__gt__',\n",
       " '__hash__',\n",
       " '__init__',\n",
       " '__init_subclass__',\n",
       " '__kwdefaults__',\n",
       " '__le__',\n",
       " '__lt__',\n",
       " '__module__',\n",
       " '__name__',\n",
       " '__ne__',\n",
       " '__new__',\n",
       " '__qualname__',\n",
       " '__reduce__',\n",
       " '__reduce_ex__',\n",
       " '__repr__',\n",
       " '__setattr__',\n",
       " '__sizeof__',\n",
       " '__str__',\n",
       " '__subclasshook__']"
      ]
     },
     "execution_count": 25,
     "metadata": {},
     "output_type": "execute_result"
    }
   ],
   "source": [
    "dir(figure)"
   ]
  },
  {
   "cell_type": "code",
   "execution_count": null,
   "metadata": {},
   "outputs": [],
   "source": []
  }
 ],
 "metadata": {
  "kernelspec": {
   "display_name": "Python 3",
   "language": "python",
   "name": "python3"
  },
  "language_info": {
   "codemirror_mode": {
    "name": "ipython",
    "version": 3
   },
   "file_extension": ".py",
   "mimetype": "text/x-python",
   "name": "python",
   "nbconvert_exporter": "python",
   "pygments_lexer": "ipython3",
   "version": "3.8.3"
  }
 },
 "nbformat": 4,
 "nbformat_minor": 4
}
